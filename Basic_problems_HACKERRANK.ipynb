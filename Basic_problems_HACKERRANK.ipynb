{
  "nbformat": 4,
  "nbformat_minor": 0,
  "metadata": {
    "colab": {
      "name": "Yogesh_problems_HACKERRANK.ipynb",
      "provenance": [],
      "collapsed_sections": [],
      "include_colab_link": true
    },
    "kernelspec": {
      "display_name": "Python 3",
      "name": "python3"
    },
    "language_info": {
      "name": "python"
    }
  },
  "cells": [
    {
      "cell_type": "markdown",
      "metadata": {
        "id": "view-in-github",
        "colab_type": "text"
      },
      "source": [
        "<a href=\"https://colab.research.google.com/github/npawar8050/HackerrankBasics/blob/main/Basic_problems_HACKERRANK.ipynb\" target=\"_parent\"><img src=\"https://colab.research.google.com/assets/colab-badge.svg\" alt=\"Open In Colab\"/></a>"
      ]
    },
    {
      "cell_type": "code",
      "metadata": {
        "colab": {
          "base_uri": "https://localhost:8080/"
        },
        "id": "JqXclWpba77i",
        "outputId": "2c5f55b3-74bd-4654-8574-7385541a8e78"
      },
      "source": [
        "# Given a list \"A\" of \"n\" integers, write a function to get list \"FinalList\" \n",
        "# that contaions n numbers of lists having table for the integers in the list \"A\"\n",
        "# Example: A=[1,2,3]\n",
        "# Return: [[1,2,3,4,5,6,7,8,9,10],[2,4,6,8,10,12,14,16,18,20],[3,6,9,12,15,18,21,24,27,30]]\n",
        "A=[1,2,3]\n",
        "B =[]\n",
        "for i in A:\n",
        "  B1=[]\n",
        "  for j in range(1,11):\n",
        "    j=j*i\n",
        "    B1.append(j)\n",
        "  B.append(B1)\n",
        "print(B)"
      ],
      "execution_count": null,
      "outputs": [
        {
          "name": "stdout",
          "output_type": "stream",
          "text": [
            "[[1, 2, 3, 4, 5, 6, 7, 8, 9, 10], [2, 4, 6, 8, 10, 12, 14, 16, 18, 20], [3, 6, 9, 12, 15, 18, 21, 24, 27, 30]]\n"
          ]
        }
      ]
    },
    {
      "cell_type": "code",
      "metadata": {
        "colab": {
          "base_uri": "https://localhost:8080/"
        },
        "id": "uiZZ6yGZ4zSm",
        "outputId": "3eebd589-45b3-4c87-dfa7-6152a40e5833"
      },
      "source": [
        "# Given a string \"s\". Return a string with every digit given in a string replaced with \" symbol\n",
        "import re\n",
        "s=\"I have 4 apples; you can have 3 of them\"\n",
        "nums = r'[0-9]'\n",
        "z=re.sub(nums, '\"', s)\n",
        "print(z)"
      ],
      "execution_count": null,
      "outputs": [
        {
          "name": "stdout",
          "output_type": "stream",
          "text": [
            "I have \" apples; you can have \" of them\n"
          ]
        }
      ]
    },
    {
      "cell_type": "code",
      "metadata": {
        "colab": {
          "base_uri": "https://localhost:8080/"
        },
        "id": "Yb0BuVks_ene",
        "outputId": "ff3e7751-ab5b-4c54-eff2-0f81265f5e17"
      },
      "source": [
        "# Given a list \"MyList\", write a function to get a list, where, \n",
        "# every integer poresent in \"MyList\" will be replaced by it's square and\n",
        "# every string present in  \"MyList\" will be replaced by it's length.\n",
        "# If anything else is present in \"MyList\", it should remain as it is.\n",
        "# Example: MyList=[4,13,\"Python\",3.5,\"OMG\"]\n",
        "# Return:  [16,169, 6, 3.5, 3]\n",
        "\n",
        "def intToSquare_strToLength(MyList):\n",
        "    l=[]\n",
        "    for i in MyList:\n",
        "        if type(i)==int:\n",
        "            l.append(i*i)\n",
        "        elif type(i)==str:\n",
        "            l.append(len(i))\n",
        "        else:\n",
        "            l.append(i)\n",
        "\n",
        "    return l\n",
        "    #return [(i*i) if type(i)==int else(len(i) if type(i)==str else i) for i in MyList]\n",
        "    \n",
        "MyList=[4, 13, \"Python\", 3.5, \"OMG\"]\n",
        "print(intToSquare_strToLength(MyList))"
      ],
      "execution_count": null,
      "outputs": [
        {
          "name": "stdout",
          "output_type": "stream",
          "text": [
            "[16, 169, 6, 3.5, 3]\n"
          ]
        }
      ]
    },
    {
      "cell_type": "code",
      "metadata": {
        "colab": {
          "base_uri": "https://localhost:8080/"
        },
        "id": "o27HDJWCZcfS",
        "outputId": "25e8926c-64b8-4f9f-fa53-5010f2dd76be"
      },
      "source": [
        "#Write a program that asks the user for a weight in kilograms and \n",
        "# converts it to pounds. There are 2.2 pounds in a kilogram.\n",
        "j= float(input(\"Your weight is: \"))\n",
        "print(\"Equal to pound: \", j*2.2)"
      ],
      "execution_count": null,
      "outputs": [
        {
          "name": "stdout",
          "output_type": "stream",
          "text": [
            "Your weight is: 65.32\n",
            "Equal to pound:  143.704\n"
          ]
        }
      ]
    },
    {
      "cell_type": "code",
      "metadata": {
        "colab": {
          "base_uri": "https://localhost:8080/"
        },
        "id": "PNrJBaB2B_m1",
        "outputId": "610c117c-e868-4c8f-8afe-b5f86e048108"
      },
      "source": [
        "# Write a program that asks the user to enter three numbers \n",
        "# (use three separate input statements). Create variables called\n",
        "# total and average that hold the sum and average of the three \n",
        "# numbers and print out the values of total and average.\n",
        "a=int(input(\"Enter 1st number:\"))\n",
        "b=int(input(\"Enter 2st number:\"))\n",
        "c=int(input(\"Enter 3st number:\"))\n",
        "print(\"Total is, \", a+b+c, \"and average is, \", (a+b+c)/3 )"
      ],
      "execution_count": null,
      "outputs": [
        {
          "name": "stdout",
          "output_type": "stream",
          "text": [
            "Enter 1st number:2\n",
            "Enter 2st number:5\n",
            "Enter 3st number:9\n",
            "Total is,  16 and average is,  5.333333333333333\n"
          ]
        }
      ]
    },
    {
      "cell_type": "code",
      "metadata": {
        "colab": {
          "base_uri": "https://localhost:8080/"
        },
        "id": "Gz2973LSDTok",
        "outputId": "b2088af1-62b7-4ad2-a3db-a5cc8770f973"
      },
      "source": [
        "# Write a program that prints letters A to Z on the same line. \n",
        "# Don't write stupid like print(\"ABCD....Z\")\n",
        "import string\n",
        "for i in string.ascii_uppercase:\n",
        "   print(i, end =\"\")"
      ],
      "execution_count": null,
      "outputs": [
        {
          "name": "stdout",
          "output_type": "stream",
          "text": [
            "ABCDEFGHIJKLMNOPQRSTUVWXYZ"
          ]
        }
      ]
    },
    {
      "cell_type": "code",
      "metadata": {
        "colab": {
          "base_uri": "https://localhost:8080/"
        },
        "id": "nP-zAxu4EMB0",
        "outputId": "819a2035-1bee-4cf7-b614-5fad685c887b"
      },
      "source": [
        "# Write a program that uses a for loop to print the numbers \n",
        "#8, 11, 14, 17, 20, . . . , 83, 86, 89.\n",
        "for i in range(8,91,3):\n",
        "  print(i, end =\",\")"
      ],
      "execution_count": null,
      "outputs": [
        {
          "name": "stdout",
          "output_type": "stream",
          "text": [
            "8,11,14,17,20,23,26,29,32,35,38,41,44,47,50,53,56,59,62,65,68,71,74,77,80,83,86,89,"
          ]
        }
      ]
    },
    {
      "cell_type": "code",
      "metadata": {
        "colab": {
          "base_uri": "https://localhost:8080/"
        },
        "id": "goCJ_PTeFV0x",
        "outputId": "42be2912-3a7e-4c7b-83cd-40812dd67927"
      },
      "source": [
        "# Write a program that prints letters A to Z on the same line. \n",
        "# Don't write stupid like print(\"ABCD....Z\")\n",
        "for i in range(65, 91):\n",
        "   print(chr(i), end =\" \")\n",
        "print(\"\\n\",chr(45))\n",
        "print(ord(\"a\"))"
      ],
      "execution_count": null,
      "outputs": [
        {
          "name": "stdout",
          "output_type": "stream",
          "text": [
            "A B C D E F G H I J K L M N O P Q R S T U V W X Y Z \n",
            " -\n",
            "97\n"
          ]
        }
      ]
    },
    {
      "cell_type": "code",
      "metadata": {
        "colab": {
          "base_uri": "https://localhost:8080/"
        },
        "id": "0bwPCA4I_KFg",
        "outputId": "dc1897b6-a4ae-4763-8aa0-c60eaafedcc7"
      },
      "source": [
        "'''\n",
        "Two children, Lily and Ron, want to share a chocolate bar. Each of the squares has an integer on it.\n",
        "\n",
        "Lily decides to share a contiguous segment of the bar selected such that:\n",
        "\n",
        "    The length of the segment matches Ron's birth month, and,\n",
        "    The sum of the integers on the squares is equal to his birth day.\n",
        "\n",
        "Determine how many ways she can divide the chocolate.\n",
        "Example: \n",
        "5\n",
        "1 2 1 3 2\n",
        "3 2'''\n",
        "import math\n",
        "import os\n",
        "import random\n",
        "import re\n",
        "import sys\n",
        "\n",
        "def birthday(s, d, m):\n",
        "    counter = 0\n",
        "    for i in range(len(s)):\n",
        "        if sum(s[i: (i+m)]) == d:\n",
        "            counter +=1 \n",
        "    return counter\n",
        "\n",
        "if __name__ == '__main__':\n",
        "    n = int(input().strip())\n",
        "    s = list(map(int, input().rstrip().split()))\n",
        "    first_multiple_input = input().rstrip().split()\n",
        "    d = int(first_multiple_input[0])\n",
        "    m = int(first_multiple_input[1])\n",
        "    result = birthday(s, d, m)\n",
        "    print(result)\n"
      ],
      "execution_count": null,
      "outputs": [
        {
          "name": "stdout",
          "output_type": "stream",
          "text": [
            "5\n",
            "1 2 1 3 2\n",
            "3 2\n",
            "2\n"
          ]
        }
      ]
    },
    {
      "cell_type": "code",
      "metadata": {
        "colab": {
          "base_uri": "https://localhost:8080/"
        },
        "id": "m094M-sPuGc6",
        "outputId": "e38295e1-5255-4e68-abdc-d50960473a1a"
      },
      "source": [
        "# Write a Python program to calculate the hypotenuse of a right angled triangle.\n",
        "import math\n",
        "a = float(input(\"Type length of one side of the triangle:\"))\n",
        "b = float(input(\"Type length of 2nd side of the triangle:\"))\n",
        "c = math.sqrt((a*a)+(b*b))\n",
        "print(c)"
      ],
      "execution_count": null,
      "outputs": [
        {
          "name": "stdout",
          "output_type": "stream",
          "text": [
            "Type length of one side of the triangle:5\n",
            "Type length of 2nd side of the triangle:4\n",
            "6.4031242374328485\n"
          ]
        }
      ]
    },
    {
      "cell_type": "code",
      "metadata": {
        "id": "3JNUzdtPu5-M"
      },
      "source": [
        "# Write a Python program to convert all units of time into seconds.\n",
        "import time\n",
        "a = \"12:12:12\"\n"
      ],
      "execution_count": null,
      "outputs": []
    },
    {
      "cell_type": "code",
      "metadata": {
        "colab": {
          "base_uri": "https://localhost:8080/"
        },
        "id": "JZ2xpxjnxjsg",
        "outputId": "43114755-b5d8-4039-8ca7-01d2e6f39fdd"
      },
      "source": [
        "# 66. Write a Python program to calculate body mass index.\n",
        "a = float(input(\"Write your weight in kg: \"))\n",
        "b = float(input(\"Write your weight in meters: \"))\n",
        "BMI = a/(b*b)\n",
        "print(\"Body Mass Index is:\", BMI)\n",
        "#A BMI of 25.0 or more is overweight, while the healthy range is 18.5 to 24.9.\n",
        "if BMI >=25:\n",
        "  print(\"You are overweight\")\n",
        "elif BMI <=18.4:\n",
        "  print(\"You are underweight\")\n",
        "else:\n",
        "  print(\"You are FITTA\")\n"
      ],
      "execution_count": null,
      "outputs": [
        {
          "name": "stdout",
          "output_type": "stream",
          "text": [
            "Write your weight in kg: 64\n",
            "Write your weight in meters: 1.64592\n",
            "Body Mass Index is: 23.624494741749732\n",
            "You are FITTA\n"
          ]
        }
      ]
    },
    {
      "cell_type": "code",
      "metadata": {
        "colab": {
          "base_uri": "https://localhost:8080/"
        },
        "id": "QR3Wcf8_yAS9",
        "outputId": "680428a7-3782-4ece-956f-5eed54bbe06f"
      },
      "source": [
        "# 68. Write a Python program to calculate the sum of the digits in an integer.\n",
        "import re\n",
        "a = input(\"Type an integer: \")\n",
        "sum = 0\n",
        "for  i in a:\n",
        "  sum += int(i)\n",
        "print(sum)\n"
      ],
      "execution_count": null,
      "outputs": [
        {
          "name": "stdout",
          "output_type": "stream",
          "text": [
            "Type an integer: 43\n",
            "7\n"
          ]
        }
      ]
    },
    {
      "cell_type": "code",
      "metadata": {
        "colab": {
          "base_uri": "https://localhost:8080/"
        },
        "id": "75amZYYZzz1s",
        "outputId": "b5723614-00d8-4707-bd78-afc300bd571f"
      },
      "source": [
        "# 35. Write a Python program that will return true if the two given integer values are equal or their sum or difference is 5. \n",
        "a = int(input(\"\"))\n",
        "b = int(input(\"\"))\n",
        "c = a+b\n",
        "if a==b or (a-b)==5 or (a+b)==5:\n",
        "  print(True)\n",
        "else:\n",
        "  print(False)"
      ],
      "execution_count": null,
      "outputs": [
        {
          "name": "stdout",
          "output_type": "stream",
          "text": [
            "4\n",
            "4\n",
            "True\n"
          ]
        }
      ]
    },
    {
      "cell_type": "code",
      "metadata": {
        "colab": {
          "base_uri": "https://localhost:8080/",
          "height": 132
        },
        "id": "UD-w6ne3UPFA",
        "outputId": "1e579c6c-7a4f-46d7-d813-0872b76f8d3e"
      },
      "source": [
        "# Given an array of integers and a positive integer , determine the number of pairs where and + is divisible by\n",
        "# \n",
        "#Given an array of integers and a positive integer k, determine the number of (i,j) pairs where i<j and ar[i]+ ar[j] is divisible by l.\n",
        "#Example\n",
        "# \n",
        "#ar = [1,2,3,4,5,6]\n",
        "#k = 5\n",
        "#Three pairs meet the criteria: [1,4], [2,3] and [4,6]. \n",
        "#\n",
        "#STDIN           Function\n",
        "#-----           --------\n",
        "#6 3             n = 6, k = 3\n",
        "#1 3 2 6 1 2     ar = [1, 3, 2, 6, 1, 2]\n",
        "#\n",
        "#Sample Output\n",
        "\n",
        " def divisibleSumPairs(n, k, ar):\n",
        "    # Write your code here\n",
        "    count = 0\n",
        "    for i in range(n-1):\n",
        "        j = i+1\n",
        "        while j < n:\n",
        "            if ((ar[i] + ar[j]) % k) == 0:\n",
        "                count += 1\n",
        "            j += 1\n",
        "    return count\n"
      ],
      "execution_count": null,
      "outputs": [
        {
          "ename": "SyntaxError",
          "evalue": "ignored",
          "output_type": "error",
          "traceback": [
            "\u001b[0;36m  File \u001b[0;32m\"<ipython-input-1-a4ebe95999e7>\"\u001b[0;36m, line \u001b[0;32m10\u001b[0m\n\u001b[0;31m    STDIN           Function\u001b[0m\n\u001b[0m                           ^\u001b[0m\n\u001b[0;31mSyntaxError\u001b[0m\u001b[0;31m:\u001b[0m invalid syntax\n"
          ]
        }
      ]
    },
    {
      "cell_type": "code",
      "metadata": {
        "id": "4mIsmHfBVnD2"
      },
      "source": [
        "# Migratory Birds\n",
        "# Given an array of bird sightings where every element represents a bird type id, determine the id of the most frequently sighted type. \n",
        "# If more than 1 type has been spotted that maximum amount, return the smallest of their ids.\n",
        "# Example\n",
        "# arr = [1,1,2,2,3]\n",
        "# There are two each of types 1 and 2, and one sighting of type 3. Pick the lower of the two types seen twice: type 1\n",
        "# migratoryBirds has the following parameter(s):\n",
        "#    int arr[n]: the types of birds sighted\n",
        "def migratoryBirds(arr):\n",
        "    x=list(set(arr))\n",
        "    y=sorted([(arr.count(i),i) for i in x], key=lambda x:x[0])[::-1]\n",
        "    for i in range(len(y)):\n",
        "        if y[0][0]==y[1][0] and y[0][1]>y[1][1]:\n",
        "            return y[1][1]\n",
        "        else:\n",
        "            return y[0][1]\n"
      ],
      "execution_count": null,
      "outputs": []
    },
    {
      "cell_type": "markdown",
      "metadata": {
        "id": "OG3kac3qI1IY"
      },
      "source": [
        "28] (w3resource) Write a Python program to print all even numbers from a given numbers list in the same order and stop the printing if any numbers that come after 237 in the sequence. <br>\n",
        "Sample numbers list :\n",
        "\n",
        "numbers = [    \n",
        "    386, 462, 47, 418, 907, 344, 236, 375, 823, 566, 597, 978, 328, 615, 953, 345, \n",
        "    399, 162, 758, 219, 918, 237, 412, 566, 826, 248, 866, 950, 626, 949, 687, 217, \n",
        "    815, 67, 104, 58, 512, 24, 892, 894, 767, 553, 81, 379, 843, 831, 445, 742, 717, \n",
        "    958,743, 527\n",
        "    ]\n"
      ]
    },
    {
      "cell_type": "code",
      "metadata": {
        "colab": {
          "base_uri": "https://localhost:8080/"
        },
        "id": "wmuVBnMiI29I",
        "outputId": "9421752c-aeb7-40b1-c876-1d71fd2601ca"
      },
      "source": [
        "numbers = [386, 462, 47, 418, 907, 344, 236, 375, 823, 566, 597, 978, 328, 615, 953, 345, 399, 162, 758, 219, 918, 237, 412, 566, 826, 248, 866, 950, 626, 949, 687, 217, 815, 67, 104, 58, 512, 24, 892, 894, 767, 553, 81, 379, 843, 831, 445, 742, 717, 958,743, 527 ]\n",
        "for n in numbers:\n",
        "  if n == 237:\n",
        "    print(n)\n",
        "    break;\n",
        "  elif n%2==0:\n",
        "    print(n, end=\" \")"
      ],
      "execution_count": null,
      "outputs": [
        {
          "name": "stdout",
          "output_type": "stream",
          "text": [
            "386 462 418 344 236 566 978 328 162 758 918 237\n"
          ]
        }
      ]
    },
    {
      "cell_type": "code",
      "metadata": {
        "colab": {
          "base_uri": "https://localhost:8080/"
        },
        "id": "qbjk0-40JgdB",
        "outputId": "943e0aee-477e-4670-970c-c5c2ea2ceab0"
      },
      "source": [
        "# Write a function to find the roots of the quadratic equation: ax^ 2 +bx+c=0. \n",
        "# The function should return a tuple containing roots in any order. If the equation has only one solution, \n",
        "# the function should return that solution as both elements of the tuple. \n",
        "# The roots of the quadratic equation can be found with the formula:\n",
        "# X= (-b(+-)√((b^2)-4ac))/2a\n",
        "# For example, find_roots(2, 10, 8) should return (-1, -4) or (-4, -1) as the roots of the equation 2x ^ 2 + 10x + 8 = 0 are -1 and -4.\n",
        "\n",
        "# Python program to find roots\n",
        "# of a quadratic equation\n",
        "\n",
        "import math\n",
        "def findRoots(a, b, c):\n",
        "    j=()\n",
        "    j1=list(j)\n",
        "    if a == 0:\n",
        "        print(\"Invalid\")\n",
        "        return -1\n",
        "    d = b * b - 4 * a * c\n",
        "    sqrt_val = math.sqrt(d)\n",
        "    if d > 0:\n",
        "        j1.append((-b + sqrt_val)/(2 * a))\n",
        "        j1.append((-b - sqrt_val)/(2 * a))\n",
        "        j=tuple(j1)\n",
        "        print(j)\n",
        "a = 2\n",
        "b = 10\n",
        "c = 8\n",
        "\n",
        "findRoots(a, b, c)\n"
      ],
      "execution_count": null,
      "outputs": [
        {
          "name": "stdout",
          "output_type": "stream",
          "text": [
            "(-1.0, -4.0)\n"
          ]
        }
      ]
    },
    {
      "cell_type": "code",
      "metadata": {
        "colab": {
          "base_uri": "https://localhost:8080/"
        },
        "id": "D0uUXnb26TeZ",
        "outputId": "cbb40df9-d7c5-4c89-98fb-0157f1e7340f"
      },
      "source": [
        "# LIST COMPREHENSIONS, SET COMPREHENSIONS AND DICTIONARY COMPREHENSIONS\n",
        "\n",
        "numbers = []\n",
        "for i in range(1,6):\n",
        "  numbers.append(2**i)\n",
        "print(numbers)\n",
        "###################\n",
        "print([2**i for i in range(1,6)]) #list comprehension\n",
        "############\n",
        "#if loop with for liip in list comprehension\n",
        "import math\n",
        "n = [49,64,81,100,121]\n",
        "new_list=[math.sqrt(i) for i in n if i%2==0]\n",
        "print(new_list)\n",
        "############################\n",
        "#Multiple for loops in list comprehension\n",
        "team1=[\"gfd\",\"gfds\",\"trersd\"]\n",
        "team2=[\"rtegrsfe\",\"ewgefadsx\",\"etrhsgefsdwxea\"]\n",
        "new_list2 = [(x,y) for x in team1 for y in team2]\n",
        "print(new_list2)\n",
        "############################\n",
        "#List comprehension within list comprehension\n",
        "# Nested list comprehension\n",
        "matrix = [[j for j in range(5)] for i in range(5)]\n",
        "print(matrix)\n",
        "############################\n",
        "# Set comprehension\n",
        "word = \"Programming\"\n",
        "alphabates = {x for x in word}\n",
        "print(alphabates)\n",
        "############################\n",
        "# Dictionary comprehension\n",
        "n2 = [1,2,3,4,5]\n",
        "'''square_dict = dict()\n",
        "for num in n2:\n",
        "  square_dict[num] = num**2\n",
        "print(square_dict)'''\n",
        "print({num:num**2 for num in n2})\n",
        "############################\n",
        "old_price = {\"milk\":20, \"coffee\":15,\"Bread\":18}\n",
        "new_price = {key: value*1.5 if value > 18 else value for (key, value) in old_price.items()}\n",
        "print(new_price)"
      ],
      "execution_count": null,
      "outputs": [
        {
          "name": "stdout",
          "output_type": "stream",
          "text": [
            "[2, 4, 8, 16, 32]\n",
            "[2, 4, 8, 16, 32]\n",
            "[8.0, 10.0]\n",
            "[('gfd', 'rtegrsfe'), ('gfd', 'ewgefadsx'), ('gfd', 'etrhsgefsdwxea'), ('gfds', 'rtegrsfe'), ('gfds', 'ewgefadsx'), ('gfds', 'etrhsgefsdwxea'), ('trersd', 'rtegrsfe'), ('trersd', 'ewgefadsx'), ('trersd', 'etrhsgefsdwxea')]\n",
            "[[0, 1, 2, 3, 4], [0, 1, 2, 3, 4], [0, 1, 2, 3, 4], [0, 1, 2, 3, 4], [0, 1, 2, 3, 4]]\n",
            "{'n', 'g', 'r', 'P', 'a', 'o', 'i', 'm'}\n",
            "{1: 1, 2: 4, 3: 9, 4: 16, 5: 25}\n",
            "{'milk': 30.0, 'coffee': 15, 'Bread': 18}\n"
          ]
        }
      ]
    },
    {
      "cell_type": "code",
      "metadata": {
        "colab": {
          "base_uri": "https://localhost:8080/"
        },
        "id": "U4ZdaFbgB3pL",
        "outputId": "bb5e8f9e-a890-47d0-edf2-6e8d0b133777"
      },
      "source": [
        "#LAMBDAAAAAAAAAAAAAAAAAAAAAAAAAAAAAAAAAAA\n",
        "\n",
        "x = lambda a: a+10\n",
        "print(x(5))\n",
        "###############################\n",
        "def myfunc(n):\n",
        "  return lambda a : a * n\n",
        "mydoubler = myfunc(2)\n",
        "print(mydoubler(11))"
      ],
      "execution_count": null,
      "outputs": [
        {
          "name": "stdout",
          "output_type": "stream",
          "text": [
            "15\n",
            "22\n"
          ]
        }
      ]
    },
    {
      "cell_type": "code",
      "metadata": {
        "colab": {
          "base_uri": "https://localhost:8080/"
        },
        "id": "6H3LPRRRG-W1",
        "outputId": "95607125-31d4-4799-f193-f9614c2ced4d"
      },
      "source": [
        "# MAP FILTER REDUCE\n",
        "\n",
        "my_pets = ['alfred', 'tabitha', 'william', 'arla']\n",
        "uppered_pets = []\n",
        "for pet in my_pets:\n",
        "    pet_ = pet.upper()\n",
        "    uppered_pets.append(pet_)\n",
        "print(uppered_pets)\n",
        "###############################\n",
        "my_pets = ['alfred', 'tabitha', 'william', 'arla']\n",
        "uppered_pets = set(map(str.upper, my_pets))\n",
        "print(uppered_pets)\n",
        "###############################\n",
        "my_strings = ['a', 'b', 'c', 'd', 'e']\n",
        "my_numbers = [1,2,3,4]\n",
        "results = dict(zip(my_strings, my_numbers))\n",
        "print(results)\n",
        "###############################\n",
        "my_strings = ['a', 'b', 'c', 'd', 'e']\n",
        "my_numbers = [1,2,3,4,5]\n",
        "results = dict(map(lambda x, y: (x, y), my_strings, my_numbers))\n",
        "print(results)"
      ],
      "execution_count": null,
      "outputs": [
        {
          "name": "stdout",
          "output_type": "stream",
          "text": [
            "['ALFRED', 'TABITHA', 'WILLIAM', 'ARLA']\n",
            "{'TABITHA', 'ARLA', 'WILLIAM', 'ALFRED'}\n",
            "{'a': 1, 'b': 2, 'c': 3, 'd': 4}\n",
            "{'a': 1, 'b': 2, 'c': 3, 'd': 4, 'e': 5}\n"
          ]
        }
      ]
    },
    {
      "cell_type": "code",
      "metadata": {
        "colab": {
          "base_uri": "https://localhost:8080/"
        },
        "id": "Zgkv_nISM-Sw",
        "outputId": "0bbde411-a8e9-4bfb-f54f-df3667c03859"
      },
      "source": [
        "#### Map\n",
        "from functools import reduce \n",
        "\n",
        "my_floats = [4.35, 6.09, 3.25, 9.77, 2.16, 8.88, 4.59]\n",
        "my_names = [\"olumide\", \"akinremi\", \"josiah\", \"temidayo\", \"omoseun\"]\n",
        "my_numbers = [4, 6, 9, 23, 5]\n",
        "\n",
        "map_result = list(map(lambda x: round(x ** 2, 2), my_floats))\n",
        "filter_result = list(filter(lambda name: len(name) <= 7, my_names))\n",
        "reduce_result = reduce(lambda num1, num2: num1 * num2, my_numbers)\n",
        "\n",
        "print(map_result)\n",
        "print(filter_result)\n",
        "print(reduce_result)"
      ],
      "execution_count": null,
      "outputs": [
        {
          "name": "stdout",
          "output_type": "stream",
          "text": [
            "[18.92, 37.09, 10.56, 95.45, 4.67, 78.85, 21.07]\n",
            "['olumide', 'josiah', 'omoseun']\n",
            "24840\n"
          ]
        }
      ]
    },
    {
      "cell_type": "code",
      "metadata": {
        "colab": {
          "base_uri": "https://localhost:8080/"
        },
        "id": "dZ06jmiJYFd2",
        "outputId": "cdba36d3-f188-40a0-998f-04f74d710523"
      },
      "source": [
        "\n",
        "my_numbers = [1,2,3,4,5]\n",
        "mapp = list(map(lambda x: x**2, my_numbers))\n",
        "filterr = list(filter(lambda even: even%2==0, my_numbers))\n",
        "reducee = reduce(lambda sum1, sum2:sum1 + sum2, my_numbers)\n",
        "reducee"
      ],
      "execution_count": null,
      "outputs": [
        {
          "data": {
            "text/plain": [
              "15"
            ]
          },
          "execution_count": 17,
          "metadata": {},
          "output_type": "execute_result"
        }
      ]
    },
    {
      "cell_type": "code",
      "metadata": {
        "colab": {
          "base_uri": "https://localhost:8080/"
        },
        "id": "FD7pf8MeHMeW",
        "outputId": "92f59486-a9b0-4c47-f4b9-8d3652703111"
      },
      "source": [
        "# FIBONASCCI\n",
        "class Mathss:\n",
        "    def __init__(self):\n",
        "        pass\n",
        "\n",
        "    def fibonacci(self,n):\n",
        "        # print(n)\n",
        "        if n == 0:\n",
        "            return 0\n",
        "        elif n == 1 or n == 2:\n",
        "            return 1\n",
        "        else:\n",
        "            return self.fibonacci(n-1) + self.fibonacci(n-2)\n",
        "\n",
        "    def factorial(self,n):\n",
        "      if (n==1 or n==0):\n",
        "        return 1\n",
        "      else:\n",
        "        return (n * self.factorial(n - 1))\n",
        "\n",
        "if __name__==\"__main__\":\n",
        "    while(True):\n",
        "      Rodger = Mathss()\n",
        "      inn = input(\"What you wanna run? :\")\n",
        "      if inn == \"fibonacci\":\n",
        "        fibonacci = int(input(\"enter the number: \"))\n",
        "        print(Rodger.fibonacci(fibonacci))\n",
        "      elif inn == \"factorial\":\n",
        "        factorial = int(input(\"enter the number: \"))\n",
        "        print(Rodger.factorial(factorial))\n",
        "      else:\n",
        "        print(\"bye bye\")\n",
        "        break"
      ],
      "execution_count": null,
      "outputs": [
        {
          "name": "stdout",
          "output_type": "stream",
          "text": [
            "What you wanna run? :factorial\n",
            "enter the number: 8\n",
            "40320\n",
            "What you wanna run? :fds\n",
            "bye bye\n"
          ]
        }
      ]
    },
    {
      "cell_type": "code",
      "metadata": {
        "colab": {
          "base_uri": "https://localhost:8080/"
        },
        "id": "wNZ8WneiF-Im",
        "outputId": "d7da7364-e9db-419b-d3f9-ef8d09b04b03"
      },
      "source": [
        "print('''\n",
        "rgbvf \n",
        "      erg erb er  \n",
        "ererver''')"
      ],
      "execution_count": null,
      "outputs": [
        {
          "name": "stdout",
          "output_type": "stream",
          "text": [
            "\n",
            "rgbvf \n",
            "      erg erb er  \n",
            "ererver\n"
          ]
        }
      ]
    },
    {
      "cell_type": "code",
      "metadata": {
        "colab": {
          "base_uri": "https://localhost:8080/",
          "height": 393
        },
        "id": "ENR6YYh2yR0E",
        "outputId": "7c2953c0-5e7c-499c-c124-52115f0ccf11"
      },
      "source": [
        "# CALCULATOR\n",
        "class Mathss:\n",
        "    def __init__(self):\n",
        "        pass\n",
        "\n",
        "    def summation(self,a,b):\n",
        "      return self.summation(a) + self.summation(b)\n",
        "\n",
        "    def subtraction(self,a,b):\n",
        "      return self.subtraction(a) - self.subtraction(b)\n",
        "\n",
        "    def multiplication(self,a,b):\n",
        "      return self.multiplication(a) * self.multiplication(b)\n",
        "\n",
        "    def division(self,a,b):\n",
        "      return self.division(a) / self.division(b)\n",
        "\n",
        "if __name__==\"__main__\":\n",
        "    while(True):\n",
        "      Rodger = Mathss()\n",
        "      summation = 4,5\n",
        "      #inn = input(\"Do simple calculations with two numbers :\\n\")\n",
        "      s = list(map(str, input().split()))\n",
        "      print(s)\n",
        "      for i in s:\n",
        "        if i == \"+\":\n",
        "          print(Rodger.summation(summation,summation))\n",
        "\n",
        "      if list.find(\"+\") != -1:\n",
        "        print(Rodger.summation(summation))\n",
        "      elif inn == \"factorial\":\n",
        "        factorial = int(input(\"enter the number: \"))\n",
        "        print(Rodger.factorial(factorial))\n",
        "      else:\n",
        "        print(\"bye bye\")\n",
        "        break"
      ],
      "execution_count": null,
      "outputs": [
        {
          "name": "stdout",
          "output_type": "stream",
          "text": [
            "4 + 5\n",
            "['4', '+', '5']\n"
          ]
        },
        {
          "ename": "TypeError",
          "evalue": "ignored",
          "output_type": "error",
          "traceback": [
            "\u001b[0;31m---------------------------------------------------------------------------\u001b[0m",
            "\u001b[0;31mTypeError\u001b[0m                                 Traceback (most recent call last)",
            "\u001b[0;32m<ipython-input-24-279db6ea6d55>\u001b[0m in \u001b[0;36m<module>\u001b[0;34m()\u001b[0m\n\u001b[1;32m     25\u001b[0m       \u001b[0;32mfor\u001b[0m \u001b[0mi\u001b[0m \u001b[0;32min\u001b[0m \u001b[0ms\u001b[0m\u001b[0;34m:\u001b[0m\u001b[0;34m\u001b[0m\u001b[0;34m\u001b[0m\u001b[0m\n\u001b[1;32m     26\u001b[0m         \u001b[0;32mif\u001b[0m \u001b[0mi\u001b[0m \u001b[0;34m==\u001b[0m \u001b[0;34m\"+\"\u001b[0m\u001b[0;34m:\u001b[0m\u001b[0;34m\u001b[0m\u001b[0;34m\u001b[0m\u001b[0m\n\u001b[0;32m---> 27\u001b[0;31m           \u001b[0mprint\u001b[0m\u001b[0;34m(\u001b[0m\u001b[0mRodger\u001b[0m\u001b[0;34m.\u001b[0m\u001b[0msummation\u001b[0m\u001b[0;34m(\u001b[0m\u001b[0msummation\u001b[0m\u001b[0;34m,\u001b[0m\u001b[0msummation\u001b[0m\u001b[0;34m)\u001b[0m\u001b[0;34m)\u001b[0m\u001b[0;34m\u001b[0m\u001b[0;34m\u001b[0m\u001b[0m\n\u001b[0m\u001b[1;32m     28\u001b[0m \u001b[0;34m\u001b[0m\u001b[0m\n\u001b[1;32m     29\u001b[0m       \u001b[0;32mif\u001b[0m \u001b[0mlist\u001b[0m\u001b[0;34m.\u001b[0m\u001b[0mfind\u001b[0m\u001b[0;34m(\u001b[0m\u001b[0;34m\"+\"\u001b[0m\u001b[0;34m)\u001b[0m \u001b[0;34m!=\u001b[0m \u001b[0;34m-\u001b[0m\u001b[0;36m1\u001b[0m\u001b[0;34m:\u001b[0m\u001b[0;34m\u001b[0m\u001b[0;34m\u001b[0m\u001b[0m\n",
            "\u001b[0;32m<ipython-input-24-279db6ea6d55>\u001b[0m in \u001b[0;36msummation\u001b[0;34m(self, a, b)\u001b[0m\n\u001b[1;32m      5\u001b[0m \u001b[0;34m\u001b[0m\u001b[0m\n\u001b[1;32m      6\u001b[0m     \u001b[0;32mdef\u001b[0m \u001b[0msummation\u001b[0m\u001b[0;34m(\u001b[0m\u001b[0mself\u001b[0m\u001b[0;34m,\u001b[0m\u001b[0ma\u001b[0m\u001b[0;34m,\u001b[0m\u001b[0mb\u001b[0m\u001b[0;34m)\u001b[0m\u001b[0;34m:\u001b[0m\u001b[0;34m\u001b[0m\u001b[0;34m\u001b[0m\u001b[0m\n\u001b[0;32m----> 7\u001b[0;31m       \u001b[0;32mreturn\u001b[0m \u001b[0mself\u001b[0m\u001b[0;34m.\u001b[0m\u001b[0msummation\u001b[0m\u001b[0;34m(\u001b[0m\u001b[0ma\u001b[0m\u001b[0;34m)\u001b[0m \u001b[0;34m+\u001b[0m \u001b[0mself\u001b[0m\u001b[0;34m.\u001b[0m\u001b[0msummation\u001b[0m\u001b[0;34m(\u001b[0m\u001b[0mb\u001b[0m\u001b[0;34m)\u001b[0m\u001b[0;34m\u001b[0m\u001b[0;34m\u001b[0m\u001b[0m\n\u001b[0m\u001b[1;32m      8\u001b[0m \u001b[0;34m\u001b[0m\u001b[0m\n\u001b[1;32m      9\u001b[0m     \u001b[0;32mdef\u001b[0m \u001b[0msubtraction\u001b[0m\u001b[0;34m(\u001b[0m\u001b[0mself\u001b[0m\u001b[0;34m,\u001b[0m\u001b[0ma\u001b[0m\u001b[0;34m,\u001b[0m\u001b[0mb\u001b[0m\u001b[0;34m)\u001b[0m\u001b[0;34m:\u001b[0m\u001b[0;34m\u001b[0m\u001b[0;34m\u001b[0m\u001b[0m\n",
            "\u001b[0;31mTypeError\u001b[0m: summation() missing 1 required positional argument: 'b'"
          ]
        }
      ]
    },
    {
      "cell_type": "code",
      "metadata": {
        "colab": {
          "base_uri": "https://localhost:8080/"
        },
        "id": "kBo6iO8HveRd",
        "outputId": "1ecadba7-639d-480f-9a60-4bf6b77bdfea"
      },
      "source": [
        "'''Write a function to print single list of names from given two lists of names. \n",
        "Provided that list should not contain repeated names. \n",
        "For example if two lists are \n",
        "[Nandu, Akash, Abhijit, Sagar, Nandu, Aniket] and [Yogesh, Sagar, Koushal, Ashish, Rahul, Akash, Nikhil], \n",
        "then output should be [Nandu, Akash, Abhijit, Sagar, Aniket, Yogesh, Koushal, Ashish, Rahul, Nikhil].'''\n"
      ],
      "execution_count": null,
      "outputs": [
        {
          "data": {
            "text/plain": [
              "4"
            ]
          },
          "execution_count": 20,
          "metadata": {},
          "output_type": "execute_result"
        }
      ]
    },
    {
      "cell_type": "code",
      "metadata": {
        "colab": {
          "base_uri": "https://localhost:8080/"
        },
        "id": "Vsn67LV-41t1",
        "outputId": "4759d1ed-4085-447b-d000-0a46fa5ce76a"
      },
      "source": [
        "l1 = ['Nandu', 'Akash', 'Abhijit', 'Sagar', 'Nandu', 'Aniket']\n",
        "l2 = ['Yogesh', 'Sagar', 'Koushal', 'Ashish', 'Rahul', 'Akash', 'Nikhil']\n",
        "l3 = set(l1+l2)\n",
        "print(list(l3))"
      ],
      "execution_count": null,
      "outputs": [
        {
          "name": "stdout",
          "output_type": "stream",
          "text": [
            "['Akash', 'Nandu', 'Rahul', 'Koushal', 'Aniket', 'Ashish', 'Sagar', 'Nikhil', 'Abhijit', 'Yogesh']\n"
          ]
        }
      ]
    },
    {
      "cell_type": "code",
      "metadata": {
        "colab": {
          "base_uri": "https://localhost:8080/"
        },
        "id": "TtnyA3iHFWLD",
        "outputId": "23209b6d-8757-4196-dbbe-b0f2c03043cd"
      },
      "source": [
        "'''The Hurdle Race'''\n",
        "# [3-10-2021]\n",
        "import math\n",
        "import os\n",
        "import random\n",
        "import re\n",
        "import sys\n",
        "\n",
        "# Complete the 'hurdleRace' function below.\n",
        "#\n",
        "# The function is expected to return an INTEGER.\n",
        "# The function accepts following parameters:\n",
        "#  1. INTEGER k\n",
        "#  2. INTEGER_ARRAY height\n",
        "\n",
        "def hurdleRace(k, height):\n",
        "    m = max(height)\n",
        "    if k < m:\n",
        "        return(m-k)\n",
        "    else:\n",
        "        return(0)\n",
        "\n",
        "if __name__ == '__main__':\n",
        "    first_multiple_input = input().rstrip().split()\n",
        "    n = int(first_multiple_input[0])\n",
        "    k = int(first_multiple_input[1])\n",
        "    height = list(map(int, input().rstrip().split()))\n",
        "    result = hurdleRace(k, height)\n",
        "    print(result)"
      ],
      "execution_count": null,
      "outputs": [
        {
          "name": "stdout",
          "output_type": "stream",
          "text": [
            "5 7\n",
            "2 3 10 6 4\n",
            "3\n"
          ]
        }
      ]
    },
    {
      "cell_type": "code",
      "metadata": {
        "colab": {
          "base_uri": "https://localhost:8080/"
        },
        "id": "nGrC1KackRm8",
        "outputId": "b14ad8b2-98a1-466f-c9f0-3cfcd7df7646"
      },
      "source": [
        "'''Cats and a Mouse'''\n",
        "# [3-10-2021]\n",
        "import math\n",
        "import os\n",
        "import random\n",
        "import re\n",
        "import sys\n",
        "\n",
        "def catAndMouse(x, y, z):\n",
        "    if abs(z-x)==abs(z-y):\n",
        "        return(\"Mouse C\")\n",
        "    elif abs(z-x)>abs(z-y):\n",
        "        return(\"Cat B\")\n",
        "    else:\n",
        "        return(\"Cat A\")\n",
        "\n",
        "if __name__ == '__main__':\n",
        "    q = int(input())\n",
        "    for q_itr in range(q):\n",
        "        xyz = input().split()\n",
        "        x = int(xyz[0])\n",
        "        y = int(xyz[1])\n",
        "        z = int(xyz[2])\n",
        "        result = catAndMouse(x, y, z)\n",
        "        \n",
        "    print(result)\n"
      ],
      "execution_count": null,
      "outputs": [
        {
          "name": "stdout",
          "output_type": "stream",
          "text": [
            "2\n",
            "1 2 3\n",
            "1 3 2\n",
            "Mouse C\n"
          ]
        }
      ]
    },
    {
      "cell_type": "code",
      "metadata": {
        "id": "rvdbsImUn8Bo"
      },
      "source": [
        "'''Number Line Jumps.py '''\n",
        "# [3-10-2021]\n",
        "import math\n",
        "import os\n",
        "import random\n",
        "import re\n",
        "import sys\n",
        "\n",
        "def kangaroo(x1, v1, x2, v2):\n",
        "    if (v1>v2) and ((x1-x2)%(v2-v1)) == 0:\n",
        "        return \"YES\"\n",
        "    else:\n",
        "        return \"NO\"\n",
        "\n",
        "if __name__ == '__main__':\n",
        "    first_multiple_input = input().rstrip().split()\n",
        "    x1 = int(first_multiple_input[0])\n",
        "    v1 = int(first_multiple_input[1])\n",
        "    x2 = int(first_multiple_input[2])\n",
        "    v2 = int(first_multiple_input[3])\n",
        "    result = kangaroo(x1, v1, x2, v2)\n",
        "    print(result)"
      ],
      "execution_count": null,
      "outputs": []
    },
    {
      "cell_type": "code",
      "metadata": {
        "colab": {
          "base_uri": "https://localhost:8080/"
        },
        "id": "WdYpQM0RjFAT",
        "outputId": "15bf236d-01d2-4da7-e9da-27e488004f9a"
      },
      "source": [
        "'''Designer PDF Viewer '''\n",
        "# [4-10-2021]\n",
        "import math\n",
        "import os\n",
        "import random\n",
        "import re\n",
        "import sys\n",
        "\n",
        "def designerPdfViewer(h, word):\n",
        "    maxHeight=0\n",
        "    for i in range(len(word)):\n",
        "        if(h[ord(word[i])-97] > maxHeight):\n",
        "            maxHeight=h[ord(word[i])-97]\n",
        "    return(len(word)*1*maxHeight)\n",
        "\n",
        "if __name__ == '__main__':\n",
        "    h = list(map(int, input().rstrip().split()))\n",
        "    word = input()\n",
        "    result = designerPdfViewer(h, word)\n",
        "    print(result)"
      ],
      "execution_count": null,
      "outputs": [
        {
          "name": "stdout",
          "output_type": "stream",
          "text": [
            "1 2 3 4 5 6 7 8 9 10 11 12 13 14 15 16 17 18 19 20 21 22 23 24 25 26\n",
            "nandkumar\n",
            "189\n"
          ]
        }
      ]
    },
    {
      "cell_type": "code",
      "metadata": {
        "colab": {
          "base_uri": "https://localhost:8080/"
        },
        "id": "df_YcMKcjIXI",
        "outputId": "d80e0214-9461-40d4-8018-74f915ed3067"
      },
      "source": [
        "'''Day of the Programmer'''\n",
        "# [4-10-2021]\n",
        "# The function is expected to return a STRING.\n",
        "# The function accepts INTEGER year as parameter.\n",
        "\n",
        "import math\n",
        "import os\n",
        "import random\n",
        "import re\n",
        "import sys\n",
        "\n",
        "def dayOfProgrammer(year):\n",
        "    if year > 1918:\n",
        "        if year%4==0:\n",
        "            return \"12.09.%s\" %year\n",
        "        else:\n",
        "            return \"13.09.%s\" %year\n",
        "    elif year < 1918:\n",
        "        if (year%400==0) or (year%4==0 and year%100 != 0):\n",
        "            return \"12.09.%s\" %year\n",
        "        else:\n",
        "            return \"13.09.%s\" %year\n",
        "    else:\n",
        "        return \"26.09.1918\"\n",
        "\n",
        "if __name__ == '__main__':\n",
        "    year = int(input().strip())\n",
        "    result = dayOfProgrammer(year)\n",
        "    print(result)"
      ],
      "execution_count": null,
      "outputs": [
        {
          "name": "stdout",
          "output_type": "stream",
          "text": [
            "1918\n",
            "26.09.1918\n"
          ]
        }
      ]
    },
    {
      "cell_type": "code",
      "metadata": {
        "id": "VHMU2JFspPet"
      },
      "source": [
        "'''If a car starts from A towards B with some velocity.\n",
        "Due to some problem in the engine after traveling 30km, \n",
        "car goes with 4/5 th of its actual velocity The car reaches B \n",
        "45min later than the actual time.\n",
        "But, if the car engine fails after traveling 45km, \n",
        "the car reaches the destination B 36min late than the actual time, \n",
        "what is the initial velocity of the car and what is the distance \n",
        "between A and B in km?'''\n",
        "\n",
        "import Math\n",
        "if t == d/v:\n",
        "  t1 == \n"
      ],
      "execution_count": null,
      "outputs": []
    },
    {
      "cell_type": "code",
      "metadata": {
        "colab": {
          "base_uri": "https://localhost:8080/"
        },
        "id": "QucbgtlMpCWo",
        "outputId": "8c48428d-8ccd-4beb-caa7-0db9cd013ea0"
      },
      "source": [
        "#CODEWARS\n",
        "# 7-10-2021\n",
        "'''Disemvowel Trolls'''\n",
        "import re\n",
        "string_=\"This website is for losers LOL!\"\n",
        "def disemvowel(string_):\n",
        "  return (re.sub(r'[aeiouAEIOU]','',string_))\n",
        "print(disemvowel(string_))"
      ],
      "execution_count": null,
      "outputs": [
        {
          "name": "stdout",
          "output_type": "stream",
          "text": [
            "Ths wbst s fr lsrs LL!\n"
          ]
        }
      ]
    },
    {
      "cell_type": "code",
      "metadata": {
        "colab": {
          "base_uri": "https://localhost:8080/"
        },
        "id": "5JJM12h2pP6L",
        "outputId": "5c9e3c26-ac36-4ff8-eb3d-cc133387dd6e"
      },
      "source": [
        "#CODEWARS\n",
        "# 7-10-2021\n",
        "'''Square Every Digit'''\n",
        "num = 9119\n",
        "for i in list(str(num)):\n",
        "  print(int(i)**2,end=\"\")"
      ],
      "execution_count": null,
      "outputs": [
        {
          "name": "stdout",
          "output_type": "stream",
          "text": [
            "811181"
          ]
        }
      ]
    },
    {
      "cell_type": "code",
      "metadata": {
        "colab": {
          "base_uri": "https://localhost:8080/"
        },
        "id": "_ovvGBjor9il",
        "outputId": "f7bafb0b-a36a-4529-9531-e52df903a578"
      },
      "source": [
        "def square_digits(num):\n",
        "  num = str(num)\n",
        "  result = ''\n",
        "  for i in num:\n",
        "    result +=str(int(i)**2)\n",
        "  return int(result)\n",
        "print(square_digits(9119))"
      ],
      "execution_count": null,
      "outputs": [
        {
          "name": "stdout",
          "output_type": "stream",
          "text": [
            "811181\n"
          ]
        }
      ]
    },
    {
      "cell_type": "code",
      "metadata": {
        "colab": {
          "base_uri": "https://localhost:8080/"
        },
        "id": "veAeF6IawOis",
        "outputId": "f3a21c17-01ef-44dd-c134-f9dbdf75cc7c"
      },
      "source": [
        "#CODEWARS\n",
        "# 8-10-2021\n",
        "'''Duplicate Encoder'''\n",
        "'''The goal of this exercise is to convert a string to a new string where each \n",
        "character in the new string is \"(\" if that character appears only once in the \n",
        "original string, or \")\" if that character appears more than once in the original \n",
        "string. Ignore capitalization when determining if a character is a duplicate.'''\n",
        "\n",
        "'''word = \"see\"\n",
        "for i in word:\n",
        "  if word.count(i) > 1:\n",
        "    print(\")\",end=\"\")\n",
        "  else:\n",
        "    print(\"(\",end=\"\")'''\n",
        "\n",
        "def duplicate_encode(word):\n",
        "    result=''\n",
        "    j = word.lower()\n",
        "    for i in j:\n",
        "        if j.count(i) > 1:\n",
        "            result += \")\"\n",
        "        else:\n",
        "            result += \"(\"\n",
        "    return (result)\n",
        "print(duplicate_encode(\"Success\"))"
      ],
      "execution_count": null,
      "outputs": [
        {
          "name": "stdout",
          "output_type": "stream",
          "text": [
            ")())())\n"
          ]
        }
      ]
    },
    {
      "cell_type": "code",
      "metadata": {
        "colab": {
          "base_uri": "https://localhost:8080/"
        },
        "id": "y72N4cjLC2Iu",
        "outputId": "1632e074-6f44-43e7-e991-ad8cbdc83f6a"
      },
      "source": [
        "#CODEWARS\n",
        "# 8-10-2021\n",
        "'''Exes and Ohs\n",
        "Check to see if a string has the same amount of 'x's and 'o's.\n",
        "The method must return a boolean and be case insensitive. The string can contain any char.'''\n",
        "\n",
        "def xo(s):\n",
        "  result1 = 0\n",
        "  result2 = 0\n",
        "  for i in s:\n",
        "    if i.lower() == \"x\":\n",
        "      result1 += 1\n",
        "    elif i.lower() == \"o\":\n",
        "      result2 += 1\n",
        "  return result1 == result2\n",
        "print(xo(\"xoxxo\"))\n",
        "#######################################\n",
        "def xo(q):  \n",
        "  p = q.lower()\n",
        "  return p.count('x') == p.count('o')\n",
        "print(xo(\"xoxo\"))"
      ],
      "execution_count": null,
      "outputs": [
        {
          "name": "stdout",
          "output_type": "stream",
          "text": [
            "False\n",
            "True\n"
          ]
        }
      ]
    },
    {
      "cell_type": "code",
      "metadata": {
        "colab": {
          "base_uri": "https://localhost:8080/"
        },
        "id": "vRGykYb85mA7",
        "outputId": "9cd0c585-f085-4df6-fc81-d5dce1c4b194"
      },
      "source": [
        "#CODEWARS\n",
        "# 8-10-2021\n",
        "'''Growth of a Population :-\n",
        "In a small town the population is p0 = 1000 at the beginning of a year. \n",
        "The population regularly increases by 2 percent per year and moreover 50 new \n",
        "inhabitants per year come to live in the town. How many years does the town need\n",
        "to see its population greater or equal to p = 1200 inhabitants?\n",
        "\n",
        "More generally given parameters:\n",
        "p0, percent, aug (inhabitants coming or leaving each year), p (population to surpass)\n",
        "the function nb_year should return n number of entire years needed to get a population greater or equal to p.\n",
        "aug is an integer, percent a positive or null floating number, p0 and p are positive integers (> 0)'''\n",
        "\n",
        "def nb_year(p0, percent, aug, p, count=0):\n",
        "  if (p0 >= p):\n",
        "    return count\n",
        "  else:\n",
        "    count += 1\n",
        "    return (nb_year((p0 + int(p0*percent/100) + aug), percent, aug, p, count)) # int because answer shoulf be in full year not fractional.\n",
        "#print(d)\n",
        "print(nb_year(1500, 5, 100, 5000))\n"
      ],
      "execution_count": null,
      "outputs": [
        {
          "name": "stdout",
          "output_type": "stream",
          "text": [
            "15\n"
          ]
        }
      ]
    },
    {
      "cell_type": "code",
      "metadata": {
        "colab": {
          "base_uri": "https://localhost:8080/",
          "height": 105
        },
        "id": "TJ2xLGHfVJ1m",
        "outputId": "87414501-a282-452d-8516-637e80668f35"
      },
      "source": [
        "#CODEWARS\n",
        "# 9-10-2021\n",
        "'''RGB To Hex Conversion\n",
        "\n",
        "The rgb function is incomplete. Complete it so that passing in RGB decimal values\n",
        "will result in a hexadecimal representation being returned. Valid decimal values \n",
        "for RGB are 0 - 255. Any values that fall out of that range must be rounded to the closest valid value.\n",
        "\n",
        "Note: Your answer should always be 6 characters long, the shorthand with 3 will not work here.\n",
        "\n",
        "The following are examples of expected output values:\n",
        "\n",
        "rgb(255, 255, 255) # returns FFFFFF\n",
        "rgb(255, 255, 300) # returns FFFFFF\n",
        "rgb(0,0,0) # returns 000000\n",
        "rgb(148, 0, 211) # returns 9400D3\n",
        "'''"
      ],
      "execution_count": null,
      "outputs": [
        {
          "data": {
            "application/vnd.google.colaboratory.intrinsic+json": {
              "type": "string"
            },
            "text/plain": [
              "'RGB To Hex Conversion\\n\\nThe rgb function is incomplete. Complete it so that passing in RGB decimal values\\nwill result in a hexadecimal representation being returned. Valid decimal values \\nfor RGB are 0 - 255. Any values that fall out of that range must be rounded to the closest valid value.\\n\\nNote: Your answer should always be 6 characters long, the shorthand with 3 will not work here.\\n\\nThe following are examples of expected output values:\\n\\nrgb(255, 255, 255) # returns FFFFFF\\nrgb(255, 255, 300) # returns FFFFFF\\nrgb(0,0,0) # returns 000000\\nrgb(148, 0, 211) # returns 9400D3\\n'"
            ]
          },
          "execution_count": 1,
          "metadata": {},
          "output_type": "execute_result"
        }
      ]
    },
    {
      "cell_type": "code",
      "metadata": {
        "colab": {
          "background_save": true,
          "base_uri": "https://localhost:8080/"
        },
        "id": "0Qws4ziNPwiB",
        "outputId": "50f8abd2-c433-46b3-fa98-719fb122d210"
      },
      "source": [
        "#CODEWARS\n",
        "# 9-10-2021\n",
        "'''Multiples of 3 or 5'''\n",
        "\n",
        "def solution(number):\n",
        "  d = 0\n",
        "  i = 0\n",
        "  for i in range(number):\n",
        "    if i%3 == 0 or i%5 == 0:\n",
        "      #print(i)\n",
        "      d = i+i\n",
        "  return d\n",
        "print(solution(10))"
      ],
      "execution_count": null,
      "outputs": [
        {
          "name": "stdout",
          "output_type": "stream",
          "text": [
            "18\n"
          ]
        }
      ]
    },
    {
      "cell_type": "code",
      "metadata": {
        "colab": {
          "base_uri": "https://localhost:8080/"
        },
        "id": "NqdX2WcYR-7h",
        "outputId": "908d02f6-ef1a-4178-948e-dfe674ebdb09"
      },
      "source": [
        "#CODEWARS\n",
        "# 9-10-2021\n",
        "'''Create Phone Number:\n",
        "Write a function that accepts an array of 10 integers (between 0 and 9), \n",
        "that returns a string of those numbers in the form of a phone number.\n",
        "Example\n",
        "\n",
        "create_phone_number([1, 2, 3, 4, 5, 6, 7, 8, 9, 0]) # => returns \"(123) 456-7890\"'''\n",
        "\n",
        "def create_phone_number(n):\n",
        "    a = b = c= \"\"\n",
        "    for i in range(len(n)):\n",
        "        if i < 3:\n",
        "            a += str(n[i])\n",
        "        elif 3 <= i < 6:\n",
        "            b += str(n[i])\n",
        "        else:\n",
        "            c += str(n[i])\n",
        "    return \"(\" + a + \") \" + b + \"-\" + c\n",
        "print(create_phone_number([8,1,4,9,1,6,8,0,4,2]))\n"
      ],
      "execution_count": null,
      "outputs": [
        {
          "name": "stdout",
          "output_type": "stream",
          "text": [
            "(814) 916-8042\n"
          ]
        }
      ]
    },
    {
      "cell_type": "code",
      "metadata": {
        "id": "L3Tc3vr-ugRY",
        "colab": {
          "base_uri": "https://localhost:8080/"
        },
        "outputId": "0dc16f6e-5fb4-4398-ba3a-bb5ccb9c637b"
      },
      "source": [
        "#CODEWARS\n",
        "# 9-10-2021\n",
        "'''Counting Duplicates'''\n",
        "\n",
        "def duplicate_count(text):\n",
        "  d = 0\n",
        "  for char in set(text.lower()):\n",
        "    if text.lower().count(char) > 1:\n",
        "      d = d+1\n",
        "  return d\n",
        "print(duplicate_count(\"abcdeaB\"))"
      ],
      "execution_count": null,
      "outputs": [
        {
          "output_type": "stream",
          "name": "stdout",
          "text": [
            "2\n"
          ]
        }
      ]
    },
    {
      "cell_type": "code",
      "metadata": {
        "colab": {
          "base_uri": "https://localhost:8080/"
        },
        "id": "U386nrGlLKDP",
        "outputId": "ec38ed77-d316-483a-d299-cf753e816c88"
      },
      "source": [
        "def duplicate_count(text):\n",
        "  return len([c for c in set(text.lower()) if text.lower().count(c)>1])\n",
        "print(duplicate_count(\"abcdeaB\"))"
      ],
      "execution_count": null,
      "outputs": [
        {
          "output_type": "stream",
          "name": "stdout",
          "text": [
            "2\n"
          ]
        }
      ]
    },
    {
      "cell_type": "code",
      "metadata": {
        "id": "tZDM1T6ZMpgE",
        "colab": {
          "base_uri": "https://localhost:8080/"
        },
        "outputId": "1290c60f-c5c6-4301-8b25-24ddb19afa7b"
      },
      "source": [
        "def walk_home(str):\n",
        "    d=0\n",
        "    for i in str:\n",
        "        if i == \"n\" or i == \"e\":\n",
        "            d=d+1\n",
        "        elif i == \"s\" or i == \"w\":\n",
        "            d=d-1\n",
        "        if d == 0:\n",
        "            return True\n",
        "        else:\n",
        "          return False\n",
        "print(walk_home(\"news\"))"
      ],
      "execution_count": null,
      "outputs": [
        {
          "output_type": "stream",
          "name": "stdout",
          "text": [
            "1\n",
            "1\n",
            "False\n"
          ]
        }
      ]
    },
    {
      "cell_type": "code",
      "metadata": {
        "id": "mGsq2UuaI7EH",
        "colab": {
          "base_uri": "https://localhost:8080/"
        },
        "outputId": "a52180c7-75e1-44bd-eb0d-e244ff10aa89"
      },
      "source": [
        "'''Twice as old'''\n",
        "\n",
        "def twice_as_old(dad_years_old, son_years_old):\n",
        "  return abs(dad_years_old-son_years_old*2)\n",
        "print(twice_as_old(64,30))"
      ],
      "execution_count": null,
      "outputs": [
        {
          "output_type": "stream",
          "name": "stdout",
          "text": [
            "4\n"
          ]
        }
      ]
    },
    {
      "cell_type": "code",
      "metadata": {
        "id": "0gMFpNFGVlaC",
        "colab": {
          "base_uri": "https://localhost:8080/"
        },
        "outputId": "6f97bc30-3a1a-4c21-a026-1fa1f19ea2b1"
      },
      "source": [
        "def even_numbers(arr,n):\n",
        "    p=[]\n",
        "    for i in arr:\n",
        "        if i%2==0:\n",
        "            p.append(i)\n",
        "    for j in range(len(p)):\n",
        "      return p[-n:]\n",
        "print(even_numbers([-22, 5, 3, 11, 26, -6, -7, -8, -9, -8, 26], 2))"
      ],
      "execution_count": null,
      "outputs": [
        {
          "output_type": "stream",
          "name": "stdout",
          "text": [
            "[-8, 26]\n"
          ]
        }
      ]
    },
    {
      "cell_type": "code",
      "metadata": {
        "colab": {
          "base_uri": "https://localhost:8080/"
        },
        "id": "IiO_7cxgSZmB",
        "outputId": "41c2939f-95a7-4be8-dc99-a489f206e937"
      },
      "source": [
        "def even_numbers(arr,n):\n",
        "    return [i for i in arr if i % 2 == 0][-n:] \n",
        "print(even_numbers([-22, 5, 3, 11, 26, -6, -7, -8, -9, -8, 26], 2))"
      ],
      "execution_count": null,
      "outputs": [
        {
          "output_type": "stream",
          "name": "stdout",
          "text": [
            "[-8, 26]\n"
          ]
        }
      ]
    },
    {
      "cell_type": "code",
      "metadata": {
        "colab": {
          "base_uri": "https://localhost:8080/"
        },
        "id": "71QqvteIVNIL",
        "outputId": "ca3f7beb-53af-4c3a-b09d-ef14815e5c05"
      },
      "source": [
        "def number(bus_stops):\n",
        "  return sum(inn - out for inn, out in bus_stops)\n",
        "print(number([[10,0],[3,5],[5,8]]))"
      ],
      "execution_count": null,
      "outputs": [
        {
          "output_type": "stream",
          "name": "stdout",
          "text": [
            "5\n"
          ]
        }
      ]
    },
    {
      "cell_type": "code",
      "metadata": {
        "colab": {
          "base_uri": "https://localhost:8080/"
        },
        "id": "mh8Ms_wT3hct",
        "outputId": "6c11c19b-33f3-4001-ea30-7954e0f8c022"
      },
      "source": [
        "def all_perms(elements):\n",
        "  if len(elements) <=1:\n",
        "    yield elements\n",
        "  else:\n",
        "    for perm in all_perms(elements[1:]):\n",
        "      print(perm)\n",
        "      for i in range(len(elements)):\n",
        "        # nb elements[0:1] works in both string and list contexts\n",
        "        yield perm[:i] + elements[0:1] + perm[i:]\n",
        "        return elements\n",
        "print(all_perms([1,2,3]))"
      ],
      "execution_count": null,
      "outputs": [
        {
          "output_type": "stream",
          "name": "stdout",
          "text": [
            "<generator object all_perms at 0x7fd97c640ad0>\n"
          ]
        }
      ]
    },
    {
      "cell_type": "code",
      "metadata": {
        "colab": {
          "base_uri": "https://localhost:8080/"
        },
        "id": "4n0l8HkaF02Z",
        "outputId": "5f1ed6ff-bfd7-45c3-ee2c-c76eccaf3ca9"
      },
      "source": [
        "def n_length_combo(lst, n):\n",
        "    if n == 0:\n",
        "        return [[]]\n",
        "    l =[]\n",
        "    for i in range(0, len(lst)):\n",
        "        m = lst[i]\n",
        "        remLst = lst[i + 1:]\n",
        "        for p in n_length_combo(remLst, n-1):\n",
        "            l.append([m]+p)\n",
        "    return l\n",
        "print(n_length_combo(['a','b','c'], 2))"
      ],
      "execution_count": null,
      "outputs": [
        {
          "output_type": "stream",
          "name": "stdout",
          "text": [
            "[['a', 'b'], ['a', 'c'], ['b', 'c']]\n"
          ]
        }
      ]
    },
    {
      "cell_type": "code",
      "metadata": {
        "id": "DFls5YDmUqVG",
        "colab": {
          "base_uri": "https://localhost:8080/"
        },
        "outputId": "887cb610-96b1-4f23-dea8-cc50b3be753e"
      },
      "source": [
        "def remove(s):\n",
        "  r = s.count(\"!\")\n",
        "  #print(r)\n",
        "  p = s.split(\"!\")\n",
        "  q = \"\".join(p)+\"!\"*r\n",
        "  return q\n",
        "print(remove(\"Hi! Hi! Hi!\"))"
      ],
      "execution_count": null,
      "outputs": [
        {
          "output_type": "stream",
          "name": "stdout",
          "text": [
            "Hi Hi Hi!!!\n"
          ]
        }
      ]
    },
    {
      "cell_type": "code",
      "metadata": {
        "id": "ZMt0JKrcdxyY"
      },
      "source": [
        ""
      ],
      "execution_count": null,
      "outputs": []
    }
  ]
}